{
 "cells": [
  {
   "cell_type": "code",
   "execution_count": 2,
   "id": "335f3460-c6c8-481e-9533-9be2aded92c3",
   "metadata": {},
   "outputs": [
    {
     "ename": "ModuleNotFoundError",
     "evalue": "No module named 'pandas'",
     "output_type": "error",
     "traceback": [
      "\u001b[1;31m---------------------------------------------------------------------------\u001b[0m",
      "\u001b[1;31mModuleNotFoundError\u001b[0m                       Traceback (most recent call last)",
      "Cell \u001b[1;32mIn[2], line 2\u001b[0m\n\u001b[0;32m      1\u001b[0m \u001b[38;5;66;03m# Importing pandas python lib\u001b[39;00m\n\u001b[1;32m----> 2\u001b[0m \u001b[38;5;28;01mimport\u001b[39;00m\u001b[38;5;250m \u001b[39m\u001b[38;5;21;01mpandas\u001b[39;00m\u001b[38;5;250m \u001b[39m\u001b[38;5;28;01mas\u001b[39;00m\u001b[38;5;250m \u001b[39m\u001b[38;5;21;01mpd\u001b[39;00m\n",
      "\u001b[1;31mModuleNotFoundError\u001b[0m: No module named 'pandas'"
     ]
    }
   ],
   "source": [
    "# Importing pandas python lib\n",
    "import pandas as pd"
   ]
  },
  {
   "cell_type": "code",
   "execution_count": 3,
   "id": "1842dc02-a984-4162-b55f-4991959ac1e0",
   "metadata": {},
   "outputs": [
    {
     "ename": "NameError",
     "evalue": "name 'pd' is not defined",
     "output_type": "error",
     "traceback": [
      "\u001b[1;31m---------------------------------------------------------------------------\u001b[0m",
      "\u001b[1;31mNameError\u001b[0m                                 Traceback (most recent call last)",
      "Cell \u001b[1;32mIn[3], line 2\u001b[0m\n\u001b[0;32m      1\u001b[0m \u001b[38;5;66;03m# Reading the data from excel file and print 6 rows from it\u001b[39;00m\n\u001b[1;32m----> 2\u001b[0m students_df \u001b[38;5;241m=\u001b[39m \u001b[43mpd\u001b[49m\u001b[38;5;241m.\u001b[39mread_excel(\u001b[38;5;124mr\u001b[39m\u001b[38;5;124m'\u001b[39m\u001b[38;5;124mC:\u001b[39m\u001b[38;5;124m\\\u001b[39m\u001b[38;5;124mUsers\u001b[39m\u001b[38;5;124m\\\u001b[39m\u001b[38;5;124mN7600PC\u001b[39m\u001b[38;5;124m\\\u001b[39m\u001b[38;5;124mDesktop\u001b[39m\u001b[38;5;124m\\\u001b[39m\u001b[38;5;124mPython Lessons\u001b[39m\u001b[38;5;124m\\\u001b[39m\u001b[38;5;124mDevelopiaLessons\u001b[39m\u001b[38;5;124m\\\u001b[39m\u001b[38;5;124mStudents.xlsx\u001b[39m\u001b[38;5;124m'\u001b[39m)\n\u001b[0;32m      3\u001b[0m students_df\u001b[38;5;241m.\u001b[39mhead(\u001b[38;5;241m6\u001b[39m)\n",
      "\u001b[1;31mNameError\u001b[0m: name 'pd' is not defined"
     ]
    }
   ],
   "source": [
    "# Reading the data from excel file and print 6 rows from it\n",
    "students_df = pd.read_excel(r'C:\\Users\\N7600PC\\Desktop\\Python Lessons\\DevelopiaLessons\\Students.xlsx')\n",
    "students_df.head(6)"
   ]
  },
  {
   "cell_type": "code",
   "execution_count": 4,
   "id": "eb3ba83f-a683-4085-910b-5434fa7d4fac",
   "metadata": {},
   "outputs": [
    {
     "ename": "ModuleNotFoundError",
     "evalue": "No module named 'duckdb'",
     "output_type": "error",
     "traceback": [
      "\u001b[1;31m---------------------------------------------------------------------------\u001b[0m",
      "\u001b[1;31mModuleNotFoundError\u001b[0m                       Traceback (most recent call last)",
      "Cell \u001b[1;32mIn[4], line 2\u001b[0m\n\u001b[0;32m      1\u001b[0m \u001b[38;5;66;03m# Importing duckdb lib for write sql queries\u001b[39;00m\n\u001b[1;32m----> 2\u001b[0m \u001b[38;5;28;01mimport\u001b[39;00m\u001b[38;5;250m \u001b[39m\u001b[38;5;21;01mduckdb\u001b[39;00m\u001b[38;5;250m \u001b[39m\u001b[38;5;28;01mas\u001b[39;00m\u001b[38;5;250m \u001b[39m\u001b[38;5;21;01mdb\u001b[39;00m\n",
      "\u001b[1;31mModuleNotFoundError\u001b[0m: No module named 'duckdb'"
     ]
    }
   ],
   "source": [
    "# Importing duckdb lib for write sql queries\n",
    "import duckdb as db"
   ]
  },
  {
   "cell_type": "code",
   "execution_count": 5,
   "id": "6a4af5cc-62a1-4238-aafe-aff502dc8867",
   "metadata": {},
   "outputs": [
    {
     "ename": "NameError",
     "evalue": "name 'db' is not defined",
     "output_type": "error",
     "traceback": [
      "\u001b[1;31m---------------------------------------------------------------------------\u001b[0m",
      "\u001b[1;31mNameError\u001b[0m                                 Traceback (most recent call last)",
      "Cell \u001b[1;32mIn[5], line 3\u001b[0m\n\u001b[0;32m      1\u001b[0m \u001b[38;5;66;03m# Writing query for new column which is called EducationInfo\u001b[39;00m\n\u001b[0;32m      2\u001b[0m sql_query \u001b[38;5;241m=\u001b[39m \u001b[38;5;124m\"\u001b[39m\u001b[38;5;124mselect *, case when age > 25 then \u001b[39m\u001b[38;5;124m'\u001b[39m\u001b[38;5;124mGraduated\u001b[39m\u001b[38;5;124m'\u001b[39m\u001b[38;5;124m when age >= 23 then \u001b[39m\u001b[38;5;124m'\u001b[39m\u001b[38;5;124mGraduated or left less 1 year\u001b[39m\u001b[38;5;124m'\u001b[39m\u001b[38;5;124m else \u001b[39m\u001b[38;5;124m'\u001b[39m\u001b[38;5;124mStill study\u001b[39m\u001b[38;5;124m'\u001b[39m\u001b[38;5;124m end as EducationInfo from students_df\u001b[39m\u001b[38;5;124m\"\u001b[39m\n\u001b[1;32m----> 3\u001b[0m df \u001b[38;5;241m=\u001b[39m \u001b[43mdb\u001b[49m\u001b[38;5;241m.\u001b[39mquery(sql_query)\u001b[38;5;241m.\u001b[39mto_df()\n\u001b[0;32m      4\u001b[0m df\u001b[38;5;241m.\u001b[39mhead(\u001b[38;5;241m6\u001b[39m)\n",
      "\u001b[1;31mNameError\u001b[0m: name 'db' is not defined"
     ]
    }
   ],
   "source": [
    "# Writing query for new column which is called EducationInfo\n",
    "sql_query = \"select *, case when age > 25 then 'Graduated' when age >= 23 then 'Graduated or left less 1 year' else 'Still study' end as EducationInfo from students_df\"\n",
    "df = db.query(sql_query).to_df()\n",
    "df.head(6)"
   ]
  },
  {
   "cell_type": "code",
   "execution_count": 6,
   "id": "bd001fdc-5669-49b2-820e-dff23e01d254",
   "metadata": {},
   "outputs": [
    {
     "ename": "ModuleNotFoundError",
     "evalue": "No module named 'pyodbc'",
     "output_type": "error",
     "traceback": [
      "\u001b[1;31m---------------------------------------------------------------------------\u001b[0m",
      "\u001b[1;31mModuleNotFoundError\u001b[0m                       Traceback (most recent call last)",
      "Cell \u001b[1;32mIn[6], line 2\u001b[0m\n\u001b[0;32m      1\u001b[0m \u001b[38;5;66;03m# Importing pyodbc\u001b[39;00m\n\u001b[1;32m----> 2\u001b[0m \u001b[38;5;28;01mimport\u001b[39;00m\u001b[38;5;250m \u001b[39m\u001b[38;5;21;01mpyodbc\u001b[39;00m\n",
      "\u001b[1;31mModuleNotFoundError\u001b[0m: No module named 'pyodbc'"
     ]
    }
   ],
   "source": [
    "# Importing pyodbc\n",
    "import pyodbc"
   ]
  },
  {
   "cell_type": "code",
   "execution_count": 7,
   "id": "88f18827-96ed-4fb4-bacf-c183ae552398",
   "metadata": {},
   "outputs": [
    {
     "name": "stdout",
     "output_type": "stream",
     "text": [
      "name 'pyodbc' is not defined\n"
     ]
    }
   ],
   "source": [
    "# Creating connection and try it if there has error or not\n",
    "connection_string = (\n",
    "    r'DRIVER={ODBC Driver 17 for SQL Server};'\n",
    "    r'SERVER=LAPTOP-IVSC51O5\\SQLEXPRESS;'\n",
    "    r'DATABASE=AdventureWorks2022;'\n",
    "    r'Trusted_Connection=yes;'\n",
    ")\n",
    "\n",
    "# If there isn't error, print Connection is Succesfull, else print Exception\n",
    "try:\n",
    "    conn = pyodbc.connect(connection_string)\n",
    "    print('Connection is Succesfull')\n",
    "except Exception as e:\n",
    "    print(e)"
   ]
  },
  {
   "cell_type": "code",
   "execution_count": 8,
   "id": "74a7dd5c-c82e-4c02-aab4-4f509d74ce6f",
   "metadata": {},
   "outputs": [
    {
     "ename": "NameError",
     "evalue": "name 'conn' is not defined",
     "output_type": "error",
     "traceback": [
      "\u001b[1;31m---------------------------------------------------------------------------\u001b[0m",
      "\u001b[1;31mNameError\u001b[0m                                 Traceback (most recent call last)",
      "Cell \u001b[1;32mIn[8], line 2\u001b[0m\n\u001b[0;32m      1\u001b[0m \u001b[38;5;66;03m# Creating cursor for to do as bridge role \u001b[39;00m\n\u001b[1;32m----> 2\u001b[0m cursor \u001b[38;5;241m=\u001b[39m \u001b[43mconn\u001b[49m\u001b[38;5;241m.\u001b[39mcursor()\n",
      "\u001b[1;31mNameError\u001b[0m: name 'conn' is not defined"
     ]
    }
   ],
   "source": [
    "# Creating cursor for to do as bridge role \n",
    "cursor = conn.cursor()"
   ]
  },
  {
   "cell_type": "code",
   "execution_count": 9,
   "id": "26c64469-4540-4b46-9264-e41120ff19d9",
   "metadata": {},
   "outputs": [
    {
     "ename": "NameError",
     "evalue": "name 'cursor' is not defined",
     "output_type": "error",
     "traceback": [
      "\u001b[1;31m---------------------------------------------------------------------------\u001b[0m",
      "\u001b[1;31mNameError\u001b[0m                                 Traceback (most recent call last)",
      "Cell \u001b[1;32mIn[9], line 5\u001b[0m\n\u001b[0;32m      2\u001b[0m table_name \u001b[38;5;241m=\u001b[39m \u001b[38;5;124m\"\u001b[39m\u001b[38;5;124mNewSchema\u001b[39m\u001b[38;5;124m\"\u001b[39m\n\u001b[0;32m      4\u001b[0m \u001b[38;5;66;03m# Executing cursor\u001b[39;00m\n\u001b[1;32m----> 5\u001b[0m \u001b[43mcursor\u001b[49m\u001b[38;5;241m.\u001b[39mexecute(\u001b[38;5;124mf\u001b[39m\u001b[38;5;124m\"\"\"\u001b[39m\n\u001b[0;32m      6\u001b[0m \u001b[38;5;124mIF OBJECT_ID(\u001b[39m\u001b[38;5;124m'\u001b[39m\u001b[38;5;132;01m{\u001b[39;00mtable_name\u001b[38;5;132;01m}\u001b[39;00m\u001b[38;5;124m'\u001b[39m\u001b[38;5;124m, \u001b[39m\u001b[38;5;124m'\u001b[39m\u001b[38;5;124mU\u001b[39m\u001b[38;5;124m'\u001b[39m\u001b[38;5;124m) IS NOT NULL\u001b[39m\n\u001b[0;32m      7\u001b[0m \u001b[38;5;124m    DROP TABLE \u001b[39m\u001b[38;5;132;01m{\u001b[39;00mtable_name\u001b[38;5;132;01m}\u001b[39;00m\u001b[38;5;124m;\u001b[39m\n\u001b[0;32m      8\u001b[0m \n\u001b[0;32m      9\u001b[0m \u001b[38;5;124mCREATE TABLE \u001b[39m\u001b[38;5;132;01m{\u001b[39;00mtable_name\u001b[38;5;132;01m}\u001b[39;00m\u001b[38;5;124m (\u001b[39m\n\u001b[0;32m     10\u001b[0m \u001b[38;5;124m    name NVARCHAR(255),\u001b[39m\n\u001b[0;32m     11\u001b[0m \u001b[38;5;124m    surname NVARCHAR(255),\u001b[39m\n\u001b[0;32m     12\u001b[0m \u001b[38;5;124m    age FLOAT,\u001b[39m\n\u001b[0;32m     13\u001b[0m \u001b[38;5;124m    EducationInfo TEXT\u001b[39m\n\u001b[0;32m     14\u001b[0m \u001b[38;5;124m);\u001b[39m\n\u001b[0;32m     15\u001b[0m \u001b[38;5;124m\"\"\"\u001b[39m)\n\u001b[0;32m     17\u001b[0m \u001b[38;5;66;03m# I did iteration for add columns to SQL table which I created\u001b[39;00m\n\u001b[0;32m     18\u001b[0m \u001b[38;5;28;01mfor\u001b[39;00m _, row \u001b[38;5;129;01min\u001b[39;00m df\u001b[38;5;241m.\u001b[39miterrows():\n",
      "\u001b[1;31mNameError\u001b[0m: name 'cursor' is not defined"
     ]
    }
   ],
   "source": [
    "# Creating new table above AdventureWorks2022 database in DBO schema\n",
    "table_name = \"NewSchema\"\n",
    "\n",
    "# Executing cursor\n",
    "cursor.execute(f\"\"\"\n",
    "IF OBJECT_ID('{table_name}', 'U') IS NOT NULL\n",
    "    DROP TABLE {table_name};\n",
    "\n",
    "CREATE TABLE {table_name} (\n",
    "    name NVARCHAR(255),\n",
    "    surname NVARCHAR(255),\n",
    "    age FLOAT,\n",
    "    EducationInfo TEXT\n",
    ");\n",
    "\"\"\")\n",
    "\n",
    "# I did iteration for add columns to SQL table which I created\n",
    "for _, row in df.iterrows():\n",
    "    cursor.execute(f\"INSERT INTO {table_name} (name, surname, age, EducationInfo) VALUES (?, ?, ?, ?)\", \n",
    "                   row['Name'], row['Surname'], row['Age'], row['EducationInfo'])\n",
    "\n",
    "# Commit and must to close cursor and connection\n",
    "conn.commit()\n",
    "cursor.close()\n",
    "conn.close()"
   ]
  },
  {
   "cell_type": "code",
   "execution_count": null,
   "id": "2d12dbeb-2671-47ac-a754-b9bb732c948c",
   "metadata": {},
   "outputs": [],
   "source": []
  },
  {
   "cell_type": "code",
   "execution_count": null,
   "id": "9dd2a6ab-5540-41e4-893a-bca2067f9118",
   "metadata": {},
   "outputs": [],
   "source": []
  },
  {
   "cell_type": "code",
   "execution_count": null,
   "id": "ff86635e-a9ef-4717-a2a4-7e6174b600e3",
   "metadata": {},
   "outputs": [],
   "source": []
  },
  {
   "cell_type": "code",
   "execution_count": null,
   "id": "0ac107cc-9191-4a19-95da-4f8cc908a4d0",
   "metadata": {},
   "outputs": [],
   "source": []
  }
 ],
 "metadata": {
  "kernelspec": {
   "display_name": "Python 3",
   "language": "python",
   "name": "python3"
  },
  "language_info": {
   "codemirror_mode": {
    "name": "ipython",
    "version": 3
   },
   "file_extension": ".py",
   "mimetype": "text/x-python",
   "name": "python",
   "nbconvert_exporter": "python",
   "pygments_lexer": "ipython3",
   "version": "3.13.0"
  }
 },
 "nbformat": 4,
 "nbformat_minor": 5
}
